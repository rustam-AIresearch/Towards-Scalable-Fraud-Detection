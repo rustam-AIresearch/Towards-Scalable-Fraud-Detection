{
  "cells": [
    {
      "cell_type": "markdown",
      "source": [
        "# Towards Scalable Fraud Detection:The Role of Oversampling and Hybrid Techniques in Distirbuted Data Environment\n",
        "\n",
        "This project applies scalable machine learning techniques for fraud detection on large-scale credit card transaction data. It leverages Apache Spark to handle partitioning, SMOTE-based oversampling, and distributed evaluation efficiently.\n",
        "\n",
        "\n",
        "\n",
        "- **Source:** [Kaggle Credit Card Fraud Detection](https://www.kaggle.com/mlg-ulb/creditcardfraud)\n",
        "- 284,807 transactions with 492 frauds (~0.17%)\n",
        "- Features are PCA-transformed (V1–V28), plus `Time` and `Amount`\n",
        "\n",
        "\n",
        "#### Overview of the Pipeline\n",
        "- Data loading and preprocessing\n",
        "- Partitioning strategies\n",
        "- Multiple SMOTE techniques\n",
        "- Model training and evaluation\n",
        "- Scalability and performance analysis\n",
        "\n",
        "\n",
        "### Author\n",
        " Project by:\n",
        "\n",
        "1.   **Elakia Vijayalakshmi Mantharchalam**\n",
        "2.   **Dias Kuatbekov**\n",
        "3.   **Rustam Guliyev**\n",
        "\n",
        "\n",
        "- Module: Big Data Learning and Technologies (COMP4124 UNUK)"
      ],
      "metadata": {
        "id": "n6v3nQUea-c8"
      }
    },
    {
      "cell_type": "code",
      "source": [
        "from google.colab import drive\n",
        "drive.mount('/content/drive')"
      ],
      "metadata": {
        "colab": {
          "base_uri": "https://localhost:8080/"
        },
        "id": "QYEoKXdkp_AV",
        "outputId": "6ec08271-77ea-461c-a491-4bea1a578f81"
      },
      "execution_count": 1,
      "outputs": [
        {
          "output_type": "stream",
          "name": "stdout",
          "text": [
            "Mounted at /content/drive\n"
          ]
        }
      ]
    },
    {
      "cell_type": "markdown",
      "source": [
        "### Spark Setup and Library Imports\n",
        "\n",
        "Imports all necessary libraries for data processing, machine learning, clustering, and visualization. Also initializes the Spark session.\n"
      ],
      "metadata": {
        "id": "lZeOe8jUSt40"
      }
    },
    {
      "cell_type": "code",
      "execution_count": 2,
      "metadata": {
        "application/vnd.databricks.v1+cell": {
          "cellMetadata": {
            "byteLimit": 2048000,
            "rowLimit": 10000
          },
          "inputWidgets": {},
          "nuid": "5577716f-22c5-4754-beb9-9cdc3b0adf0d",
          "showTitle": false,
          "tableResultSettingsMap": {},
          "title": ""
        },
        "id": "TlQX96EJcQZy"
      },
      "outputs": [],
      "source": [
        "##############################\n",
        "# 1. Imports and Spark Setup #\n",
        "##############################\n",
        "from pyspark.sql import SparkSession,Row\n",
        "from pyspark.sql.functions import col, when, unix_timestamp\n",
        "from pyspark.ml.feature import VectorAssembler, BucketedRandomProjectionLSH\n",
        "from pyspark.ml.classification import RandomForestClassifier\n",
        "from pyspark.ml.clustering import KMeans, BisectingKMeans\n",
        "from pyspark.ml.evaluation import BinaryClassificationEvaluator\n",
        "from pyspark.ml.linalg import DenseVector, Vectors\n",
        "from pyspark.broadcast import Broadcast\n",
        "from sklearn.neighbors import NearestNeighbors\n",
        "from pyspark.sql import functions as F\n",
        "from pyspark.sql.types import StructType, StructField, LongType, ArrayType, DoubleType\n",
        "from pyspark.ml.linalg import Vectors, VectorUDT\n",
        "from pyspark.ml.feature import BucketedRandomProjectionLSH\n",
        "from pyspark.sql.functions import col\n",
        "from pyspark.ml.linalg import DenseVector\n",
        "import numpy as np\n",
        "from imblearn.combine import SMOTEENN\n",
        "import matplotlib.pyplot as plt\n",
        "import pandas as pd\n",
        "import numpy as np\n",
        "import random\n",
        "import time\n",
        "import math\n",
        "from pyspark.sql import SparkSession, Window\n",
        "from pyspark.sql import functions as F\n",
        "from pyspark.ml import Pipeline # Import Pipeline\n",
        "from pyspark.ml.feature import VectorAssembler, StandardScaler\n",
        "\n",
        "spark = SparkSession.builder.appName(\"CreditCardFraudDetection\").getOrCreate()\n"
      ]
    },
    {
      "cell_type": "markdown",
      "source": [
        "### Load and Visualize Dataset"
      ],
      "metadata": {
        "id": "4qfbHffRWtsK"
      }
    },
    {
      "cell_type": "code",
      "execution_count": 3,
      "metadata": {
        "application/vnd.databricks.v1+cell": {
          "cellMetadata": {
            "byteLimit": 2048000,
            "rowLimit": 10000
          },
          "inputWidgets": {},
          "nuid": "8fee7942-419c-4499-a7c8-623a6b28c4d6",
          "showTitle": false,
          "tableResultSettingsMap": {},
          "title": ""
        },
        "colab": {
          "base_uri": "https://localhost:8080/",
          "height": 802
        },
        "id": "hjHlgppje9Gl",
        "outputId": "1f99a4b6-d82c-44e3-ea2e-2f21ab077d18"
      },
      "outputs": [
        {
          "output_type": "stream",
          "name": "stdout",
          "text": [
            "+-----+------+\n",
            "|Class| count|\n",
            "+-----+------+\n",
            "|    1|   492|\n",
            "|    0|284315|\n",
            "+-----+------+\n",
            "\n",
            "+-------+------------------+--------------------+--------------------+--------------------+--------------------+--------------------+--------------------+--------------------+--------------------+--------------------+--------------------+--------------------+--------------------+--------------------+--------------------+--------------------+--------------------+--------------------+--------------------+--------------------+--------------------+--------------------+--------------------+--------------------+--------------------+--------------------+--------------------+--------------------+--------------------+------------------+--------------------+\n",
            "|summary|              Time|                  V1|                  V2|                  V3|                  V4|                  V5|                  V6|                  V7|                  V8|                  V9|                 V10|                 V11|                 V12|                 V13|                 V14|                 V15|                 V16|                 V17|                 V18|                 V19|                 V20|                 V21|                 V22|                 V23|                 V24|                 V25|                 V26|                 V27|                 V28|            Amount|               Class|\n",
            "+-------+------------------+--------------------+--------------------+--------------------+--------------------+--------------------+--------------------+--------------------+--------------------+--------------------+--------------------+--------------------+--------------------+--------------------+--------------------+--------------------+--------------------+--------------------+--------------------+--------------------+--------------------+--------------------+--------------------+--------------------+--------------------+--------------------+--------------------+--------------------+--------------------+------------------+--------------------+\n",
            "|  count|            284807|              284807|              284807|              284807|              284807|              284807|              284807|              284807|              284807|              284807|              284807|              284807|              284807|              284807|              284807|              284807|              284807|              284807|              284807|              284807|              284807|              284807|              284807|              284807|              284807|              284807|              284807|              284807|              284807|            284807|              284807|\n",
            "|   mean| 94813.85957508067|5.109395214431826...|2.554697607215913...|-8.63487791238978...|3.525482697957960...|2.043758085772730...|2.088465293899009...|-2.28645435845824...|-3.57657665010227...|-1.34121624378835...|1.900056345366835...|2.05653157380881E-15|-2.67285237154964...|7.887628862279132...|1.497691472230329...|2.707979463648868...|1.444202491079246...|-3.19337200901989...|3.640444090282676...|9.468348006743977...|1.820222045141338...|2.554697607215913...|8.941441625255696...|7.664092821647739...|4.515428020754126...|1.545592052365627...|1.737194372906821...|-3.54564085876489...|-1.31127838120379...|  88.3496192509508|0.001727485630620034|\n",
            "| stddev|47488.145954566906|  1.9586958038574882|   1.651308579476995|  1.5162550051777774|  1.4158685749409223|  1.3802467340314277|  1.3322710897575698|  1.2370935981826607|  1.1943529026691984|  1.0986320892243164|  1.0888497654025246|  1.0207130277115635|  0.9992013895301407|  0.9952742301251535|   0.958595611257067|  0.9153160116104393|  0.8762528873883741|  0.8493370636743898|  0.8381762095288434|  0.8140405007685821|  0.7709250248871147|  0.7345240143713111|  0.7257015604409144|  0.6244602955949919|   0.605647067827159|  0.5212780705409377| 0.48222701326105777|  0.4036324949650308| 0.33008326416025036|250.12010924018736| 0.04152718963546528|\n",
            "|    min|               0.0|    -56.407509631329|   -72.7157275629303|   -48.3255893623954|   -5.68317119816995|   -113.743306711146|   -26.1605059358433|   -43.5572415712451|   -73.2167184552674|   -13.4340663182301|   -24.5882624372475|   -4.79747346479757|   -18.6837146333443|   -5.79188120632084|   -19.2143254902614|   -4.49894467676621|   -14.1298545174931|   -25.1627993693248|   -9.49874592104677|   -7.21352743017759|    -54.497720494566|   -34.8303821448146|    -10.933143697655|   -44.8077352037913|   -2.83662691870341|   -10.2953970749851|   -2.60455055280817|   -22.5656793207827|   -15.4300839055349|               0.0|                   0|\n",
            "|    max|          172792.0|    2.45492999121121|    22.0577289904909|    9.38255843282114|    16.8753440335975|    34.8016658766686|    73.3016255459646|    120.589493945238|    20.0072083651213|    15.5949946071278|    23.7451361206545|    12.0189131816199|     7.8483920756446|    7.12688295859376|    10.5267660517847|    8.87774159774277|    17.3151115176278|    9.25352625047285|    5.04106918541184|    5.59197142733558|    39.4209042482199|    27.2028391573154|    10.5030900899454|    22.5284116897749|    4.58454913689817|    7.51958867870916|     3.5173456116238|    31.6121981061363|    33.8478078188831|          25691.16|                   1|\n",
            "+-------+------------------+--------------------+--------------------+--------------------+--------------------+--------------------+--------------------+--------------------+--------------------+--------------------+--------------------+--------------------+--------------------+--------------------+--------------------+--------------------+--------------------+--------------------+--------------------+--------------------+--------------------+--------------------+--------------------+--------------------+--------------------+--------------------+--------------------+--------------------+--------------------+------------------+--------------------+\n",
            "\n"
          ]
        },
        {
          "output_type": "display_data",
          "data": {
            "text/plain": [
              "<Figure size 640x480 with 1 Axes>"
            ],
            "image/png": "[encoded data removed]"
          },
          "metadata": {}
        }
      ],
      "source": [
        "\n",
        "##############################\n",
        "# 2. Dataset Visualization   #\n",
        "##############################\n",
        "raw_df = spark.read.csv(\"/content/drive/MyDrive/big data/creditcard.csv\", header=True, inferSchema=True).dropna()\n",
        "raw_df.select(\"Class\").groupBy(\"Class\").count().show()\n",
        "raw_df.describe().show()\n",
        "\n",
        "# Visualization\n",
        "pandas_df = raw_df.select(\"Class\").toPandas()\n",
        "class_counts = pandas_df[\"Class\"].value_counts()\n",
        "class_counts.plot(kind=\"bar\", title=\"Class Distribution\", xlabel=\"Class\", ylabel=\"Count\")\n",
        "plt.grid(True)\n",
        "plt.tight_layout()\n",
        "plt.show()"
      ]
    },
    {
      "cell_type": "markdown",
      "source": [
        "###  Data Preprocessing\n",
        "\n",
        "- Splits the dataset into train and test sets using stratified sampling based on the label.\n",
        "- Excludes `Time`, `ID`, and `Class` from feature columns.\n",
        "- Uses `VectorAssembler` to combine features into a single vector.\n",
        "- Applies `StandardScaler` to normalize feature values.\n",
        "- Returns transformed train and test datasets with a `features` column.\n"
      ],
      "metadata": {
        "id": "CG8yBfL0V4XQ"
      }
    },
    {
      "cell_type": "code",
      "execution_count": 4,
      "metadata": {
        "application/vnd.databricks.v1+cell": {
          "cellMetadata": {
            "byteLimit": 2048000,
            "rowLimit": 10000
          },
          "inputWidgets": {},
          "nuid": "27d7a3bd-4ece-4115-8647-509d0c73304d",
          "showTitle": false,
          "tableResultSettingsMap": {},
          "title": ""
        },
        "id": "PFpEWmcvLdXu"
      },
      "outputs": [],
      "source": [
        "##############################\n",
        "# 2. Data Preprocessing      #\n",
        "##############################\n",
        "\n",
        "def train_test_split(df, label_col=\"Class\", train_ratio=0.7):\n",
        "    df = df.withColumn(\"ID\", F.monotonically_increasing_id())\n",
        "    feature_cols = [c for c in df.columns if c not in [label_col, \"ID\", \"Time\"]]\n",
        "\n",
        "    window_spec = Window.partitionBy(F.col(label_col)).orderBy(F.rand(seed=42))\n",
        "    df_ranked = df.withColumn(\"rank\", F.percent_rank().over(window_spec))\n",
        "\n",
        "    df_train = df_ranked.where(col(\"rank\") <= train_ratio).drop(\"rank\")\n",
        "    df_test = df_ranked.where(col(\"rank\") > train_ratio).drop(\"rank\")\n",
        "\n",
        "    df_train = df_train.drop(\"ID\")\n",
        "    df_test = df_test.drop(\"ID\")\n",
        "\n",
        "    return df_train, df_test\n",
        "\n",
        "\n",
        "def preprocess_pipeline(df, label_col=\"Class\"):\n",
        "\n",
        "    # df = df.drop(\"Time\")\n",
        "\n",
        "    df_train, df_test = train_test_split(df, label_col=label_col)\n",
        "\n",
        "    feature_cols = [c for c in df_train.columns if c not in [label_col, \"ID\"]]\n",
        "\n",
        "    # Stage 1: Assemble features\n",
        "    assembler = VectorAssembler(inputCols=feature_cols,\n",
        "                                outputCol=\"assembled_features\",\n",
        "                                handleInvalid=\"skip\") # Or other strategy\n",
        "\n",
        "    # Stage 2: Scale features\n",
        "    scaler = StandardScaler(inputCol=\"assembled_features\",\n",
        "                          outputCol=\"features\", # Final features column name\n",
        "                          withStd=True,\n",
        "                          withMean=True)\n",
        "\n",
        "    # Create the pipeline\n",
        "    pipeline = Pipeline(stages=[assembler, scaler])\n",
        "\n",
        "    # --- Fit and Transform ---\n",
        "    print(\"\\n--- Fitting Pipeline on Training Data ---\")\n",
        "    pipelineModel = pipeline.fit(df_train)\n",
        "\n",
        "    print(\"\\n--- Transforming Train and Test Data ---\")\n",
        "    train_processed = pipelineModel.transform(df_train).select(\"Time\", \"features\", label_col)\n",
        "    test_processed = pipelineModel.transform(df_test).select(\"Time\", \"features\", label_col)\n",
        "\n",
        "    print(\"\\nPreprocessing Complete.\")\n",
        "    return train_processed, test_processed, feature_cols\n"
      ]
    },
    {
      "cell_type": "markdown",
      "source": [
        "### Train-Test Split Function"
      ],
      "metadata": {
        "id": "0hcXGdpKW87D"
      }
    },
    {
      "cell_type": "code",
      "source": [
        "train_df, test_df, feature_cols = preprocess_pipeline(raw_df)"
      ],
      "metadata": {
        "colab": {
          "base_uri": "https://localhost:8080/"
        },
        "id": "SyRnYnhONVSB",
        "outputId": "39376b26-235c-4fdb-bd42-0a4fcf387d4f"
      },
      "execution_count": 5,
      "outputs": [
        {
          "output_type": "stream",
          "name": "stdout",
          "text": [
            "\n",
            "--- Fitting Pipeline on Training Data ---\n",
            "\n",
            "--- Transforming Train and Test Data ---\n",
            "\n",
            "Preprocessing Complete.\n"
          ]
        }
      ]
    },
    {
      "cell_type": "markdown",
      "source": [
        "### Partitioning Strategies\n",
        "- **Label-Aware Partitioning**: Separates data into minority and majority classes, then merges them to preserve label balance.\n",
        "- **Time-Based Partitioning**: Splits data based on transaction time into equal intervals (`n_partitions`), then removes the time-related columns.\n",
        "- **KMeans Partitioning**: Applies KMeans clustering to group data into `k` clusters using feature similarity.\n",
        "- **Bisecting KMeans Partitioning**: Uses hierarchical clustering to divide data into `k` clusters with more balanced structure."
      ],
      "metadata": {
        "id": "G-1fxnTOVvTQ"
      }
    },
    {
      "cell_type": "code",
      "execution_count": 6,
      "metadata": {
        "application/vnd.databricks.v1+cell": {
          "cellMetadata": {
            "byteLimit": 2048000,
            "rowLimit": 10000
          },
          "inputWidgets": {},
          "nuid": "30e1f607-aa2f-4bbe-b40e-8222e63a58be",
          "showTitle": false,
          "tableResultSettingsMap": {},
          "title": ""
        },
        "id": "Dfai2beFhtOc"
      },
      "outputs": [],
      "source": [
        "##############################\n",
        "# 3. Partitioning Strategies #\n",
        "##############################\n",
        "\n",
        "def label_aware_partitioning(df):\n",
        "    minor = df.filter(col(\"Class\") == 1)\n",
        "    major = df.filter(col(\"Class\") == 0)\n",
        "    return minor.union(major)\n",
        "\n",
        "def time_based_partitioning(df, n_partitions: int):\n",
        "    if \"Time\" not in df.columns:\n",
        "        raise ValueError(\"DataFrame must contain a 'Time' column for time-based partitioning.\")\n",
        "\n",
        "    max_time = df.agg(F.max(\"Time\").alias(\"max_time\")).collect()[0][\"max_time\"]\n",
        "    interval = max_time / n_partitions\n",
        "\n",
        "    df_partitioned = df.withColumn(\n",
        "        \"time_bucket\",\n",
        "        F.floor(col(\"Time\") / interval).cast(\"int\")\n",
        "    )\n",
        "\n",
        "    df_partitioned = df_partitioned.withColumn(\n",
        "        \"time_bucket\",\n",
        "        when(col(\"time_bucket\") >= n_partitions, n_partitions - 1).otherwise(col(\"time_bucket\"))\n",
        "    )\n",
        "\n",
        "    df_partitioned = df_partitioned.drop(\"Time\")\n",
        "    df_partitioned = df_partitioned.drop(\"time_bucket\")\n",
        "\n",
        "    return df_partitioned\n",
        "\n",
        "def kmeans_partitioning(df, k=6):\n",
        "    model = KMeans(k=k, seed=42, featuresCol=\"features\", predictionCol=\"cluster\").fit(df)\n",
        "    return model.transform(df)\n",
        "\n",
        "def bisecting_kmeans_partitioning(df, k=6):\n",
        "    model = BisectingKMeans(k=k, seed=42, featuresCol=\"features\", predictionCol=\"cluster\").fit(df)\n",
        "    return model.transform(df)"
      ]
    },
    {
      "cell_type": "markdown",
      "source": [
        "### Different SMOTE techniques\n",
        "\n",
        "- **Local SMOTE**: Generates synthetic minority points by random interpolation within the same partition or cluster.\n",
        "- **SMOTE + ENN**: Applies SMOTE for oversampling and ENN to clean overlapping/noisy samples using k-nearest neighbor filtering.\n",
        "- **Approximate SMOTE with LSH**: Uses Locality Sensitive Hashing to find approximate neighbors efficiently, then creates synthetic points by averaging neighbor pairs.\n",
        "\n"
      ],
      "metadata": {
        "id": "5voDj4_tVaje"
      }
    },
    {
      "cell_type": "code",
      "execution_count": 7,
      "metadata": {
        "application/vnd.databricks.v1+cell": {
          "cellMetadata": {
            "byteLimit": 2048000,
            "rowLimit": 10000
          },
          "inputWidgets": {},
          "nuid": "037f8ae4-e370-41f6-9dd9-dcb6a8cedded",
          "showTitle": false,
          "tableResultSettingsMap": {},
          "title": ""
        },
        "id": "9mfuLF31hv3h"
      },
      "outputs": [],
      "source": [
        "##############################\n",
        "# 4. SMOTE Techniques        #\n",
        "##############################\n",
        "\n",
        "def smote_interpolation(x, y):\n",
        "    return Vectors.dense([x[i] + random.random() * (y[i] - x[i]) for i in range(len(x))])\n",
        "\n",
        "def local_smote(df):\n",
        "    minority = df.filter(col(\"Class\") == 1).collect()\n",
        "    synthetic = []\n",
        "    # Get the list of columns for later use\n",
        "    columns = df.columns\n",
        "    for x in minority:\n",
        "        for _ in range(2):\n",
        "            y = random.choice(minority)\n",
        "            # If 'cluster' column exists in df, add it to the synthetic data\n",
        "            if 'cluster' in columns:\n",
        "                synthetic.append((smote_interpolation(x.features, y.features), 1, x['cluster']))\n",
        "            else:  # Handle cases without 'cluster' column\n",
        "                synthetic.append((smote_interpolation(x.features, y.features), 1))\n",
        "\n",
        "    # Use the extracted column names to create synth_df\n",
        "    synth_df = spark.createDataFrame(synthetic, columns if 'cluster' in columns else [\"features\", \"Class\"])\n",
        "    return df.union(synth_df)\n",
        "\n",
        "def apply_enn_smote(df, feature_cols):\n",
        "\n",
        "    # Convert Spark DataFrame to Pandas\n",
        "    pdf = df.toPandas()\n",
        "    X = np.array(pdf[\"features\"].tolist())\n",
        "    y = pdf[\"Class\"]\n",
        "\n",
        "    # Apply SMOTE + ENN\n",
        "    smote_enn = SMOTEENN(random_state=42)\n",
        "    X_res, y_res = smote_enn.fit_resample(X, y)\n",
        "\n",
        "    # Create Pandas DataFrame with resampled data\n",
        "    df_resampled = pd.DataFrame(X_res, columns=feature_cols)\n",
        "    df_resampled[\"Class\"] = y_res\n",
        "\n",
        "    # Convert back to Spark DataFrame\n",
        "    spark_df = spark.createDataFrame(df_resampled)\n",
        "\n",
        "    # Reassemble vector column using VectorAssembler\n",
        "    assembler = VectorAssembler(inputCols=feature_cols, outputCol=\"features\")\n",
        "    vector_df = assembler.transform(spark_df).select(\"features\", \"Class\")\n",
        "\n",
        "    return vector_df\n",
        "\n",
        "\n",
        "def approx_smote_lsh(df, bucket_length=2.0, num_hash_tables=3, distance_threshold=1.5):\n",
        "\n",
        "    # Step 1: Filter minority class\n",
        "    minority_df = df.filter(col(\"Class\") == 1)\n",
        "    if minority_df.count() < 2:\n",
        "        print(\"Not enough minority samples to apply LSH. Returning original.\")\n",
        "        return df\n",
        "\n",
        "    # Step 2: Apply LSH\n",
        "    lsh = BucketedRandomProjectionLSH(\n",
        "        inputCol=\"features\",\n",
        "        outputCol=\"hashes\",\n",
        "        bucketLength=bucket_length,\n",
        "        numHashTables=num_hash_tables\n",
        "    )\n",
        "    lsh_model = lsh.fit(minority_df)\n",
        "    lsh_trans = lsh_model.transform(minority_df)\n",
        "\n",
        "    # Step 3: Find approximate neighbors\n",
        "    neighbors = lsh_model.approxSimilarityJoin(\n",
        "        lsh_trans, lsh_trans, distance_threshold, distCol=\"distance\"\n",
        "    ).filter(\"datasetA.features != datasetB.features\")\n",
        "\n",
        "    # Step 4: Interpolate vectors to create synthetic samples\n",
        "    def interpolate_vectors(row):\n",
        "        v1 = np.array(row['datasetA']['features'])\n",
        "        v2 = np.array(row['datasetB']['features'])\n",
        "        return (DenseVector(((v1 + v2) / 2).tolist()), 1)\n",
        "\n",
        "    interpolated = neighbors.rdd.map(interpolate_vectors)\n",
        "\n",
        "    # Step 5: Check if RDD is empty\n",
        "    if interpolated.isEmpty():\n",
        "        print(\"Warning: No synthetic samples generated by Approx SMOTE. Returning original.\")\n",
        "        return df\n",
        "\n",
        "    # Step 6: Create DataFrame and combine\n",
        "    synthetic_df = interpolated.toDF([\"features\", \"Class\"])\n",
        "    return df.union(synthetic_df)\n"
      ]
    },
    {
      "cell_type": "markdown",
      "source": [
        "#### Global SMOTE\n",
        "\n",
        "- Implements a scalable, exact version of SMOTE for Spark.\n",
        "- Uses broadcast variables to share minority class features and sampling plans.\n",
        "- Performs global k-NN search across all partitions.\n",
        "- Generates synthetic samples via random interpolation with neighbors.\n",
        "- Returns a balanced DataFrame by appending synthetic samples to the original data.\n",
        "\n",
        "\n"
      ],
      "metadata": {
        "id": "M1AS-Ae4ZOQg"
      }
    },
    {
      "cell_type": "code",
      "execution_count": 8,
      "metadata": {
        "application/vnd.databricks.v1+cell": {
          "cellMetadata": {
            "byteLimit": 2048000,
            "rowLimit": 10000
          },
          "inputWidgets": {},
          "nuid": "8f652407-6f98-443c-97ca-130ca836c110",
          "showTitle": false,
          "tableResultSettingsMap": {},
          "title": ""
        },
        "id": "_YAXDsS0x1kP"
      },
      "outputs": [],
      "source": [
        "class SMOTEExactGlobal:\n",
        "  def __init__(self, k=5, sampling_ratio = 1.0, seed=0, verbosity=1):\n",
        "    self.k = k\n",
        "    self.sampling_ratio = sampling_ratio\n",
        "    self.seed = seed\n",
        "    self.verbosity = verbosity\n",
        "\n",
        "\n",
        "  def _find_neighbors(self, iterator, broadcast_feats, k):\n",
        "    \"\"\"\n",
        "      Helper function to do k nearest neighbors for points in particular partition\n",
        "      against globally broadcasted variables\n",
        "\n",
        "      To be called from rdd.MapPartitions\n",
        "\n",
        "      Args:\n",
        "        iterator: iterator over the rows of the current partition\n",
        "        which is expected to have 'gid' and 'features'\n",
        "        broadcast_feats: contains dict {'global id (gid)' : 'features as np arrays'}\n",
        "                        for minority instances\n",
        "        k: number of neighbors to find\n",
        "\n",
        "      Yields:\n",
        "        tuple: (id, [neighbor ids])\n",
        "    \"\"\"\n",
        "\n",
        "    # features and ids of all minority data\n",
        "    minority = broadcast_feats.value\n",
        "\n",
        "    # accessing the dict\n",
        "    feats_np = np.array([item[1] for item in minority])\n",
        "    ids = [item[0] for item in minority]\n",
        "\n",
        "    # to account for the casew when\n",
        "    effective_k = min(k, len(ids))\n",
        "\n",
        "    # sklearn will return the point itself as a neighor\n",
        "    # so we look for k+1 neighbors instead\n",
        "    # we take the min between k+1 and len(ids) as a safeguard for cases\n",
        "    # where (k > minority datapoints) to avoid crushing\n",
        "    n_neighbors_query = min(effective_k + 1, len(ids))\n",
        "    # we are using sklearn knn in each worker node on all minority features\n",
        "    nn = NearestNeighbors(n_neighbors=n_neighbors_query)\n",
        "    nn.fit(feats_np)\n",
        "\n",
        "    partition_data = list(iterator)\n",
        "\n",
        "    if not partition_data:\n",
        "      return iter([])\n",
        "\n",
        "    query_features_np = np.array([row.features.toArray() for row in partition_data])\n",
        "    query_ids = [row.gid for row in partition_data]\n",
        "\n",
        "    if query_features_np.size == 0:\n",
        "      return iter([])\n",
        "\n",
        "    dist, neigh_indices = nn.kneighbors(query_features_np)\n",
        "\n",
        "    global_id_lookup = {i: gid for i, gid in enumerate(ids)}\n",
        "\n",
        "    # iterate through the worker datapoints\n",
        "    # and attach its neighbors global id as list\n",
        "    for i, local_id in enumerate(query_ids):\n",
        "      neighbor_ids_list = []\n",
        "      for idx in neigh_indices[i]:\n",
        "            neighbor_global_id = global_id_lookup[idx]\n",
        "            # we exclude the self-neighboring scenario\n",
        "            if neighbor_global_id != local_id:\n",
        "                neighbor_ids_list.append(neighbor_global_id)\n",
        "\n",
        "      # will give a list of tuples\n",
        "      yield (local_id, neighbor_ids_list[:k])\n",
        "\n",
        "\n",
        "  def _generate_samples(self, row, broadcast_feats_dict, broadcast_plan, features_col_name, label_col, minority_label, seed):\n",
        "    \"\"\"\n",
        "      Helper function for synthetic data generation.\n",
        "      The datapoints are generated according to the sampling plan\n",
        "\n",
        "      Args:\n",
        "        row: Spark row with 'global id', 'features' and '[neigher gids]'\n",
        "        broadcast_feats_dict: contains {'gid' : 'feature vector'} for all minority points\n",
        "        broadcast_plan: contains {'gid' : '~ of synthetic points to generate'}\n",
        "        features_col_name: feature column name\n",
        "        label_col: label column name\n",
        "        minority_label: label of minority class\n",
        "        seed: a seed\n",
        "\n",
        "      Yields:\n",
        "        pyspark.sql.Row: a newly generated synthetic sample\n",
        "    \"\"\"\n",
        "\n",
        "    # to introduce 'randomness' for each point\n",
        "    task_rng = random.Random(seed + row.gid)\n",
        "\n",
        "    # extract information from the row\n",
        "    point_id = row.gid\n",
        "    point_feat = row.features.toArray()\n",
        "    neighbor_ids = row.neighbor_ids\n",
        "\n",
        "    # extract information for sampling map\n",
        "    sampling_map = broadcast_plan.value\n",
        "    all_features_map = broadcast_feats_dict.value\n",
        "\n",
        "    num_to_generate = sampling_map.get(point_id, 0)\n",
        "\n",
        "    # sanity check\n",
        "    if not neighbor_ids or num_to_generate == 0:\n",
        "      return iter([])\n",
        "\n",
        "    for _ in range(num_to_generate):\n",
        "      # randomly choose one of the neighbors\n",
        "      neighbor_id = task_rng.choice(neighbor_ids)\n",
        "      neighbor_feat = all_features_map.get(neighbor_id)\n",
        "\n",
        "      # random interpolation factor\n",
        "      alpha = task_rng.random()\n",
        "      new_feat = point_feat + alpha * (neighbor_feat - point_feat)\n",
        "\n",
        "      # a list of row object for the new synthetic sample\n",
        "      yield Row(**{features_col_name: Vectors.dense(new_feat), label_col: minority_label})\n",
        "\n",
        "  def fit_transform(self, df, features_col = 'features', label_col = 'Class', minority_label = 1):\n",
        "    \"\"\"\n",
        "      Applies Exact SMOTE to the input Spark dataframe\n",
        "\n",
        "      Args:\n",
        "        df: input dataframe with all the features and labels\n",
        "        label_col: the name of the label column\n",
        "        minority_label: the label of the minority class\n",
        "\n",
        "      Returns:\n",
        "        tuple:\n",
        "          - balanced_df (pyspark.sql.DataFrame): The DataFrame with the original data\n",
        "                            and the newly generated synthetic minority samples.\n",
        "\n",
        "          - broadcast_features_dict (pyspark.Broadcast): Broadcast variable for features dict.\n",
        "          - broadcast_sampling_map (pyspark.Broadcast): Broadcast variable for sampling map.\n",
        "          - broadcast_features_list (pyspark.Broadcast): Broadcast variable for features list.\n",
        "                                      (Returns None if no samples are generated)\n",
        "            ^\n",
        "            returning broadcast variables so that they can be manually destroyed\n",
        "    \"\"\"\n",
        "\n",
        "    spark = df.sparkSession\n",
        "    sc = spark.sparkContext\n",
        "\n",
        "    minority = df.filter(F.col(label_col) == minority_label)\n",
        "    majority = df.filter(F.col(label_col) != minority_label)\n",
        "\n",
        "    minority_count = minority.count()\n",
        "    majority_count = majority.count()\n",
        "\n",
        "    # that is to check if it so happens that there are no minority instances\n",
        "    # in the specific subsample for scalability analysis\n",
        "    if minority_count == 0:\n",
        "      return df, sc.broadcast(None), sc.broadcast(None), sc.broadcast(None)\n",
        "\n",
        "\n",
        "    target_total_minority = int(majority_count * self.sampling_ratio)\n",
        "    num_to_generate = target_total_minority - minority_count\n",
        "\n",
        "    label_col_type = df.schema[label_col].dataType\n",
        "\n",
        "    if (self.verbosity == 1):\n",
        "      print(f\"Original minority count: {minority_count}\")\n",
        "      print(f\"Majority count: {majority_count}\")\n",
        "      print(f\"Target total minority count (approx): {target_total_minority}\")\n",
        "      print(f\"Number of samples to generate: {num_to_generate}\")\n",
        "\n",
        "    # we assign unique global id  to each datapoint\n",
        "    prepared_minority_df = minority.select(\n",
        "            F.monotonically_increasing_id().alias(\"gid\"),\n",
        "            features_col, # Select the existing features vector column\n",
        "            label_col\n",
        "    )\n",
        "    prepared_minority_df.persist()\n",
        "\n",
        "    if (self.verbosity == 1):\n",
        "      print(\"Collecting minority features to the driver...\")\n",
        "\n",
        "    collected_minority_rows = prepared_minority_df.collect()\n",
        "\n",
        "    if (self.verbosity == 1):\n",
        "      print(f\"Collected {len(collected_minority_rows)} minority rows.\")\n",
        "\n",
        "    # the dict is for O(1) time complexity lookup during synthesis\n",
        "    # the list is for fitting KNN\n",
        "    broadcast_dict_list = [(row.gid, row.features.toArray()) for row in collected_minority_rows]\n",
        "    broadcast_features_dict = sc.broadcast(dict(broadcast_dict_list))\n",
        "    broadcast_features_list = sc.broadcast(broadcast_dict_list)\n",
        "\n",
        "    # we fit knn on each node on the whole dataset using broadcast_features_list\n",
        "    # and then use the partitioned datapoints as query points (inside interator)\n",
        "    print(f\"Looking for {self.k} nearest neighbors per minority point...\")\n",
        "    knn_rdd = prepared_minority_df.rdd.mapPartitions(\n",
        "        lambda iterator: self._find_neighbors(iterator, broadcast_features_list, self.k)\n",
        "    )\n",
        "\n",
        "    knn_schema = StructType([\n",
        "        StructField(\"gid\", LongType(), False),\n",
        "        StructField(\"neighbor_ids\", ArrayType(LongType()), False)\n",
        "    ])\n",
        "\n",
        "    # neighbors are found\n",
        "    knn_df = spark.createDataFrame(knn_rdd, schema=knn_schema)\n",
        "    print(\"Neigher search completed\")\n",
        "\n",
        "    # sampling map is a dictionary of {'global id (gid)' : '# samples to generate'}\n",
        "    sampling_map = {}\n",
        "    if minority_count > 0:\n",
        "      num_synthetic_per_point_base = num_to_generate // minority_count\n",
        "      remainder = num_to_generate % minority_count\n",
        "\n",
        "      temp_random = random.Random(self.seed)\n",
        "\n",
        "      global_ids = [row[0] for row in broadcast_dict_list]\n",
        "\n",
        "      # Ensure sample size is not larger than the list of IDs\n",
        "      ids_for_remainder_sample_size = min(remainder, len(global_ids))\n",
        "      ids_for_remainder = temp_random.sample(global_ids, ids_for_remainder_sample_size)\n",
        "      remainder_set = set(ids_for_remainder)\n",
        "\n",
        "      # the sampling map\n",
        "      for point_id in global_ids:\n",
        "        count = num_synthetic_per_point_base\n",
        "        if point_id in remainder_set:\n",
        "          count += 1\n",
        "        sampling_map[point_id] = count\n",
        "\n",
        "\n",
        "      broadcast_sampling_map = sc.broadcast(sampling_map)\n",
        "\n",
        "\n",
        "      generation_input_df = prepared_minority_df.join(knn_df, \"gid\")\n",
        "\n",
        "      synthetic_schema = StructType([\n",
        "            StructField(features_col, VectorUDT(), False),\n",
        "            StructField(label_col, label_col_type, False)\n",
        "        ])\n",
        "\n",
        "\n",
        "      synthetic_rdd_of_rows = generation_input_df.rdd.flatMap(\n",
        "          lambda row: self._generate_samples(\n",
        "              row,\n",
        "              broadcast_features_dict,\n",
        "              broadcast_sampling_map,\n",
        "              features_col,\n",
        "              label_col,\n",
        "              minority_label,\n",
        "              self.seed\n",
        "          )\n",
        "      )\n",
        "\n",
        "      synthetic_df = spark.createDataFrame(synthetic_rdd_of_rows, schema=synthetic_schema)\n",
        "\n",
        "\n",
        "      original_df_for_union = df.select(features_col, F.col(label_col).cast(DoubleType()))\n",
        "\n",
        "      balanced_df = original_df_for_union.unionByName(synthetic_df)\n",
        "\n",
        "      prepared_minority_df.unpersist()\n",
        "\n",
        "      print(\"processing complete\")\n",
        "      return balanced_df\n"
      ]
    },
    {
      "cell_type": "markdown",
      "source": [
        "### RandomForest Classification"
      ],
      "metadata": {
        "id": "CldQ149eU7w1"
      }
    },
    {
      "cell_type": "code",
      "execution_count": 9,
      "metadata": {
        "application/vnd.databricks.v1+cell": {
          "cellMetadata": {
            "byteLimit": 2048000,
            "rowLimit": 10000
          },
          "inputWidgets": {},
          "nuid": "0c6ef84c-815c-49b1-89d9-ce190278fb8b",
          "showTitle": false,
          "tableResultSettingsMap": {},
          "title": ""
        },
        "id": "e8H7cc4uh0KS"
      },
      "outputs": [],
      "source": [
        "\n",
        "##############################\n",
        "# 5. Classification          #\n",
        "##############################\n",
        "def train_random_forest(df):\n",
        "    rf = RandomForestClassifier(featuresCol=\"features\", labelCol=\"Class\", numTrees=10)\n",
        "    return rf.fit(df)\n"
      ]
    },
    {
      "cell_type": "code",
      "execution_count": 10,
      "metadata": {
        "application/vnd.databricks.v1+cell": {
          "cellMetadata": {
            "byteLimit": 2048000,
            "rowLimit": 10000
          },
          "inputWidgets": {},
          "nuid": "266cc717-3067-4f77-b73f-05cdd46a2175",
          "showTitle": false,
          "tableResultSettingsMap": {},
          "title": ""
        },
        "id": "ORSaMQ-ph2Wi"
      },
      "outputs": [],
      "source": [
        "##############################\n",
        "# 6. Evaluation              #\n",
        "##############################\n",
        "def evaluate_model(model, df):\n",
        "    preds = model.transform(df)\n",
        "    evaluator = BinaryClassificationEvaluator(labelCol=\"Class\")\n",
        "    return {\n",
        "        \"PR_AUC\": round(evaluator.evaluate(preds, {evaluator.metricName: \"areaUnderPR\"}), 4),\n",
        "        \"ROC_AUC\": round(evaluator.evaluate(preds, {evaluator.metricName: \"areaUnderROC\"}), 4),\n",
        "        \"Accuracy\": round(preds.filter(col(\"Class\") == col(\"prediction\")).count() / df.count(), 4)\n",
        "    }\n",
        "\n"
      ]
    },
    {
      "cell_type": "code",
      "execution_count": 11,
      "metadata": {
        "application/vnd.databricks.v1+cell": {
          "cellMetadata": {
            "byteLimit": 2048000,
            "rowLimit": 10000
          },
          "inputWidgets": {},
          "nuid": "98beae13-a87d-47d3-bc09-551a0d545fcf",
          "showTitle": false,
          "tableResultSettingsMap": {},
          "title": ""
        },
        "colab": {
          "base_uri": "https://localhost:8080/"
        },
        "id": "jYeaD8nTLdXw",
        "outputId": "aafafada-937a-452c-bf22-64e0a209cf0e"
      },
      "outputs": [
        {
          "output_type": "stream",
          "name": "stdout",
          "text": [
            "\n",
            "--- Fitting Pipeline on Training Data ---\n",
            "\n",
            "--- Transforming Train and Test Data ---\n",
            "\n",
            "Preprocessing Complete.\n"
          ]
        }
      ],
      "source": [
        "train_df, test_df, features = preprocess_pipeline(raw_df)\n",
        "\n",
        "train_df_wo_time = train_df.drop(\"Time\")\n",
        "test_df = test_df.drop(\"Time\")\n"
      ]
    },
    {
      "cell_type": "markdown",
      "source": [
        "## Preprocessing for Model Execution\n",
        "\n"
      ],
      "metadata": {
        "id": "umFQyiwfUuOD"
      }
    },
    {
      "cell_type": "markdown",
      "source": [
        "### Different Partitioning + Local SMOTE Execution\n",
        "\n",
        "- **train_local_models()**:\n",
        "  - Trains Random Forest models on different partitioning strategies (LabelAware, TimeBased, KMeans, BisectingKMeans) using Local SMOTE.\n",
        "  - Evaluates and logs performance metrics (AUC, F1, Precision, Recall).\n",
        "\n",
        "- **run_local_smote_workflow()**:\n",
        "  - Evaluates the effect of Local SMOTE across multiple data fractions (10%–50%).\n",
        "  - Measures and logs execution time for each partitioning method.\n",
        "  - Visualizes performance using an execution time vs. data fraction plot.\n"
      ],
      "metadata": {
        "id": "rW_t6jnUUj9E"
      }
    },
    {
      "cell_type": "code",
      "execution_count": 12,
      "metadata": {
        "application/vnd.databricks.v1+cell": {
          "cellMetadata": {
            "byteLimit": 2048000,
            "rowLimit": 10000
          },
          "inputWidgets": {},
          "nuid": "67defdca-2e9e-4c8f-a09f-8df73c509b5e",
          "showTitle": false,
          "tableResultSettingsMap": {},
          "title": ""
        },
        "id": "Z1aBU2rqh4sE"
      },
      "outputs": [],
      "source": [
        "##############################\n",
        "# 7. Results and Execution   #\n",
        "##############################\n",
        "\n",
        "\n",
        "def train_local_models():\n",
        "    results = []\n",
        "\n",
        "    partitions = {\n",
        "            \"LabelAware\": label_aware_partitioning(train_df_wo_time),\n",
        "            \"TimeBased\": time_based_partitioning(train_df, 5),\n",
        "            \"KMeans\": kmeans_partitioning(train_df_wo_time),\n",
        "            \"BisectingKMeans\": bisecting_kmeans_partitioning(train_df_wo_time)\n",
        "    }\n",
        "\n",
        "    for name, part_df in partitions.items():\n",
        "        print(f\"Running Local SMOTE on {name}...\")\n",
        "        smote_df = local_smote(part_df)\n",
        "        model = train_random_forest(smote_df)\n",
        "        metrics = evaluate_model(model, test_df)\n",
        "        results.append({\"Partition\": name, **metrics})\n",
        "\n",
        "        print(f\"{name} + Local SMOTE: {metrics}\")\n",
        "\n",
        "    accuracy_df = pd.DataFrame(results)\n",
        "    accuracy_df.to_csv(\"local_smote_results.csv\", index=False)\n",
        "    print(\"Results saved to local_smote_results.csv\")\n",
        "\n",
        "    return results\n",
        "\n",
        "def run_local_smote_workflow():\n",
        "    results = []\n",
        "    fractions = [0.1, 0.3, 0.4]\n",
        "\n",
        "    for frac in fractions:\n",
        "        print(f\"=== Fraction: {frac} ===\")\n",
        "        sampled_df = train_df_wo_time.sample(withReplacement=False, fraction=frac, seed=42)\n",
        "\n",
        "        partitions = {\n",
        "            \"LabelAware\": label_aware_partitioning(sampled_df),\n",
        "            \"TimeBased\": time_based_partitioning(train_df, 5),\n",
        "            \"KMeans\": kmeans_partitioning(sampled_df),\n",
        "            \"BisectingKMeans\": bisecting_kmeans_partitioning(sampled_df)\n",
        "        }\n",
        "\n",
        "        for name, part_df in partitions.items():\n",
        "            print(f\"Running Local SMOTE on {name} partition (fraction={frac})...\")\n",
        "            start = time.time()\n",
        "            smote_df = local_smote(part_df)\n",
        "            duration = round(time.time() - start, 2)\n",
        "            print(f\"{name} + Local SMOTE Time: {duration}s\")\n",
        "            results.append({\"Partition\": name, \"Fraction\": frac, \"Time\": duration})\n",
        "\n",
        "    # Save results to CSV\n",
        "    results_df = pd.DataFrame(results)\n",
        "    results_df.to_csv(\"local_smote_results.csv\", index=False)\n",
        "    print(\"Results saved to local_smote_results.csv\")\n",
        "\n",
        "    # Display results table\n",
        "    print(\"\\n=== Results Table ===\")\n",
        "    print(results_df)\n",
        "\n",
        "    # Plot execution time vs. data fraction\n",
        "    plt.figure(figsize=(8, 5))\n",
        "    for part in results_df[\"Partition\"].unique():\n",
        "        subset = results_df[results_df[\"Partition\"] == part]\n",
        "        plt.plot(subset[\"Fraction\"], subset[\"Time\"], label=part)\n",
        "\n",
        "    plt.xlabel(\"Data Fraction\")\n",
        "    plt.ylabel(\"Execution Time (s)\")\n",
        "    plt.title(\"Execution Time vs. Data Fraction by Partition\")\n",
        "    plt.legend()\n",
        "    plt.grid(True)\n",
        "    plt.tight_layout()\n",
        "    plt.show()\n",
        "\n",
        "\n"
      ]
    },
    {
      "cell_type": "code",
      "source": [
        "train_local_models()\n",
        "run_local_smote_workflow()"
      ],
      "metadata": {
        "id": "bTjQ_XVlNr2a",
        "colab": {
          "base_uri": "https://localhost:8080/",
          "height": 1000
        },
        "outputId": "a464286e-14b0-4ae5-c095-5a0e972f09aa"
      },
      "execution_count": 13,
      "outputs": [
        {
          "output_type": "stream",
          "name": "stdout",
          "text": [
            "Running Local SMOTE on LabelAware...\n",
            "LabelAware + Local SMOTE: {'PR_AUC': 0.7943, 'ROC_AUC': 0.954, 'Accuracy': 0.9995}\n",
            "Running Local SMOTE on TimeBased...\n",
            "TimeBased + Local SMOTE: {'PR_AUC': 0.7774, 'ROC_AUC': 0.956, 'Accuracy': 0.9994}\n",
            "Running Local SMOTE on KMeans...\n",
            "KMeans + Local SMOTE: {'PR_AUC': 0.7787, 'ROC_AUC': 0.95, 'Accuracy': 0.9995}\n",
            "Running Local SMOTE on BisectingKMeans...\n",
            "BisectingKMeans + Local SMOTE: {'PR_AUC': 0.7982, 'ROC_AUC': 0.9495, 'Accuracy': 0.9994}\n",
            "Results saved to local_smote_results.csv\n",
            "=== Fraction: 0.1 ===\n",
            "Running Local SMOTE on LabelAware partition (fraction=0.1)...\n",
            "LabelAware + Local SMOTE Time: 8.8s\n",
            "Running Local SMOTE on TimeBased partition (fraction=0.1)...\n",
            "TimeBased + Local SMOTE Time: 7.8s\n",
            "Running Local SMOTE on KMeans partition (fraction=0.1)...\n",
            "KMeans + Local SMOTE Time: 6.17s\n",
            "Running Local SMOTE on BisectingKMeans partition (fraction=0.1)...\n",
            "BisectingKMeans + Local SMOTE Time: 7.35s\n",
            "=== Fraction: 0.3 ===\n",
            "Running Local SMOTE on LabelAware partition (fraction=0.3)...\n",
            "LabelAware + Local SMOTE Time: 10.46s\n",
            "Running Local SMOTE on TimeBased partition (fraction=0.3)...\n",
            "TimeBased + Local SMOTE Time: 8.1s\n",
            "Running Local SMOTE on KMeans partition (fraction=0.3)...\n",
            "KMeans + Local SMOTE Time: 8.8s\n",
            "Running Local SMOTE on BisectingKMeans partition (fraction=0.3)...\n",
            "BisectingKMeans + Local SMOTE Time: 6.24s\n",
            "=== Fraction: 0.4 ===\n",
            "Running Local SMOTE on LabelAware partition (fraction=0.4)...\n",
            "LabelAware + Local SMOTE Time: 10.99s\n",
            "Running Local SMOTE on TimeBased partition (fraction=0.4)...\n",
            "TimeBased + Local SMOTE Time: 6.42s\n",
            "Running Local SMOTE on KMeans partition (fraction=0.4)...\n",
            "KMeans + Local SMOTE Time: 8.65s\n",
            "Running Local SMOTE on BisectingKMeans partition (fraction=0.4)...\n",
            "BisectingKMeans + Local SMOTE Time: 6.17s\n",
            "Results saved to local_smote_results.csv\n",
            "\n",
            "=== Results Table ===\n",
            "          Partition  Fraction   Time\n",
            "0        LabelAware       0.1   8.80\n",
            "1         TimeBased       0.1   7.80\n",
            "2            KMeans       0.1   6.17\n",
            "3   BisectingKMeans       0.1   7.35\n",
            "4        LabelAware       0.3  10.46\n",
            "5         TimeBased       0.3   8.10\n",
            "6            KMeans       0.3   8.80\n",
            "7   BisectingKMeans       0.3   6.24\n",
            "8        LabelAware       0.4  10.99\n",
            "9         TimeBased       0.4   6.42\n",
            "10           KMeans       0.4   8.65\n",
            "11  BisectingKMeans       0.4   6.17\n"
          ]
        },
        {
          "output_type": "display_data",
          "data": {
            "text/plain": [
              "<Figure size 800x500 with 1 Axes>"
            ],
            "image/png": "[encoded data removed]"
          },
          "metadata": {}
        }
      ]
    },
    {
      "cell_type": "markdown",
      "source": [
        "### Different SMOTE Techniques Excecution\n",
        "- **train_distributed()**\n",
        "  - Trains Random Forest models using three global oversampling techniques:\n",
        "    - SMOTE + ENN\n",
        "    - Approximate SMOTE (LSH)\n",
        "    - Exact Global SMOTE\n",
        "  - Evaluates performance and saves results to CSV.\n",
        "\n",
        "- **run_advanced_smote_workflow()**\n",
        "  - Analyzes execution time of SMOTE techniques across different data fractions (10%–50%).\n",
        "  - Includes:\n",
        "    - Local SMOTE + ENN with KMeans\n",
        "    - Approximate SMOTE (LSH)\n",
        "    - Global SMOTE\n",
        "  - Visualizes results with an execution time vs. data fraction plot.\n"
      ],
      "metadata": {
        "id": "c2vw6DxDUVoE"
      }
    },
    {
      "cell_type": "code",
      "execution_count": 14,
      "metadata": {
        "application/vnd.databricks.v1+cell": {
          "cellMetadata": {
            "byteLimit": 2048000,
            "rowLimit": 10000
          },
          "inputWidgets": {},
          "nuid": "4489594e-2f71-47e1-be57-0d86a327fe85",
          "showTitle": false,
          "tableResultSettingsMap": {},
          "title": ""
        },
        "id": "aYn25oEXtLDh"
      },
      "outputs": [],
      "source": [
        "def train_distributed():\n",
        "    results = []\n",
        "\n",
        "    kmeans_df = kmeans_partitioning(train_df_wo_time)\n",
        "    smote_exact_global_instance = SMOTEExactGlobal(k=5)\n",
        "\n",
        "    models = {\n",
        "        \"SMOTEENN\":apply_enn_smote(train_df_wo_time, feature_cols),\n",
        "        \"LSH\": approx_smote_lsh(train_df_wo_time),\n",
        "        \"SMOTEGlobal\":smote_exact_global_instance.fit_transform(train_df_wo_time)\n",
        "    }\n",
        "\n",
        "    for name, model in models.items():\n",
        "        print(f\"Running {name}...\")\n",
        "        start = time.time()\n",
        "        smote_df = model\n",
        "        model_rf = train_random_forest(smote_df)\n",
        "        metrics = evaluate_model(model_rf, test_df)\n",
        "        results.append({\"Model\": name, **metrics})\n",
        "\n",
        "        print(f\"{name} : {metrics}\")\n",
        "\n",
        "    accuracy_df2 = pd.DataFrame(results)\n",
        "    accuracy_df2.to_csv(\"more_smote_results.csv\", index=False)\n",
        "    print(\"Results saved to more_smote_results.csv\")\n",
        "\n",
        "    return results\n",
        "\n",
        "def run_advanced_smote_workflow():\n",
        "    results = []\n",
        "    fractions = [0.1, 0.2, 0.3, 0.5]\n",
        "    for frac in fractions:\n",
        "        print(f\"=== Fraction: {frac} ===\")\n",
        "        df = train_df.sample(withReplacement=False, fraction=frac, seed=42)\n",
        "\n",
        "        features = feature_cols\n",
        "\n",
        "        # print(\"Running Local SMOTE + ENN on KMeans...\")\n",
        "        # start = time.time()\n",
        "        # kmeans_df = kmeans_partitioning(train_df_wo_time)\n",
        "        # smote_enn_df = apply_enn_smote(kmeans_df,features)\n",
        "        # duration = round(time.time() - start, 2)\n",
        "        # print(f\"KMeans + Local SMOTE + ENN Time: {duration}s\")\n",
        "        # results.append({\"Method\": \"Local_SMOTE_ENN\", \"Fraction\": frac, \"Time\": duration})\n",
        "\n",
        "        print(\"Running Approximate SMOTE with LSH...\")\n",
        "        start = time.time()\n",
        "        smote_lsh_df = approx_smote_lsh(train_df_wo_time)\n",
        "        duration = round(time.time() - start, 2)\n",
        "        print(f\"Approximate SMOTE LSH Time: {duration}s\")\n",
        "        results.append({\"Method\": \"Approx_SMOTE_LSH\", \"Fraction\": frac, \"Time\": duration})\n",
        "\n",
        "        print(\"Running SMOTE Global ...\")\n",
        "        start = time.time()\n",
        "        # Call fit_transform instead of fit\n",
        "        smote_exact_global_instance = SMOTEExactGlobal(k=5)\n",
        "        smote_exact_df = smote_exact_global_instance.fit_transform(train_df_wo_time)\n",
        "        duration = round(time.time() - start, 2)\n",
        "        print(f\"SMOTE Global) Time: {duration}s\")\n",
        "        results.append({\"Method\": \"SMOTE_Global\", \"Fraction\": frac, \"Time\": duration})\n",
        "\n",
        "        print(\"Running SMOTE + ENN ...\")\n",
        "        start = time.time()\n",
        "        smote_enn_df_global = apply_enn_smote(train_df_wo_time,features)\n",
        "        duration = round(time.time() - start, 2)\n",
        "        print(f\"Local SMOTE + ENN Time: {duration}s\")\n",
        "        results.append({\"Method\": \"Local_SMOTE_ENN\", \"Fraction\": frac, \"Time\": duration})\n",
        "\n",
        "    # Save results and plot\n",
        "    results_df = pd.DataFrame(results)\n",
        "    results_df.to_csv(\"advanced_smote_results.csv\", index=False)\n",
        "    print(\"Results saved to advanced_smote_results.csv\")\n",
        "\n",
        "    # Display results table\n",
        "    print(\"\\n=== Results Table ===\")\n",
        "    print(results_df)\n",
        "\n",
        "    # Plot execution time vs. data fraction\n",
        "    plt.figure(figsize=(8, 5))\n",
        "    for part in results_df[\"Method\"].unique():\n",
        "        subset = results_df[results_df[\"Method\"] == part]\n",
        "        plt.plot(subset[\"Fraction\"], subset[\"Time\"], label=part)\n",
        "\n",
        "    plt.xlabel(\"Data Fraction\")\n",
        "    plt.ylabel(\"Execution Time (s)\")\n",
        "    plt.title(\"Execution Time vs. Data Fraction by Partition\")\n",
        "    plt.legend()\n",
        "    plt.grid(True)\n",
        "    plt.tight_layout()\n",
        "    plt.show()\n"
      ]
    },
    {
      "cell_type": "code",
      "execution_count": 15,
      "metadata": {
        "application/vnd.databricks.v1+cell": {
          "cellMetadata": {
            "byteLimit": 2048000,
            "rowLimit": 10000
          },
          "inputWidgets": {},
          "nuid": "58ce2519-91f4-4014-8b5e-7c75843e49a3",
          "showTitle": false,
          "tableResultSettingsMap": {},
          "title": ""
        },
        "colab": {
          "base_uri": "https://localhost:8080/",
          "height": 1000
        },
        "id": "JJO-EFyqiZny",
        "outputId": "7d07d403-117c-4b92-f2f4-9f02ceb2f48f"
      },
      "outputs": [
        {
          "output_type": "stream",
          "name": "stdout",
          "text": [
            "Original minority count: 344\n",
            "Majority count: 199020\n",
            "Target total minority count (approx): 199020\n",
            "Number of samples to generate: 198676\n",
            "Collecting minority features to the driver...\n",
            "Collected 344 minority rows.\n",
            "Looking for 5 nearest neighbors per minority point...\n",
            "Neigher search completed\n",
            "processing complete\n",
            "Running SMOTEENN...\n",
            "SMOTEENN : {'PR_AUC': 0.7269, 'ROC_AUC': 0.9833, 'Accuracy': 0.9939}\n",
            "Running LSH...\n",
            "LSH : {'PR_AUC': 0.7981, 'ROC_AUC': 0.9763, 'Accuracy': 0.9994}\n",
            "Running SMOTEGlobal...\n",
            "SMOTEGlobal : {'PR_AUC': 0.7252, 'ROC_AUC': 0.9727, 'Accuracy': 0.9955}\n",
            "Results saved to more_smote_results.csv\n",
            "=== Fraction: 0.1 ===\n",
            "Running Approximate SMOTE with LSH...\n",
            "Approximate SMOTE LSH Time: 23.73s\n",
            "Running SMOTE Global ...\n",
            "Original minority count: 344\n",
            "Majority count: 199020\n",
            "Target total minority count (approx): 199020\n",
            "Number of samples to generate: 198676\n",
            "Collecting minority features to the driver...\n",
            "Collected 344 minority rows.\n",
            "Looking for 5 nearest neighbors per minority point...\n",
            "Neigher search completed\n",
            "processing complete\n",
            "SMOTE Global) Time: 34.65s\n",
            "Running SMOTE + ENN ...\n",
            "Local SMOTE + ENN Time: 1368.58s\n",
            "=== Fraction: 0.2 ===\n",
            "Running Approximate SMOTE with LSH...\n",
            "Approximate SMOTE LSH Time: 19.06s\n",
            "Running SMOTE Global ...\n",
            "Original minority count: 344\n",
            "Majority count: 199020\n",
            "Target total minority count (approx): 199020\n",
            "Number of samples to generate: 198676\n",
            "Collecting minority features to the driver...\n",
            "Collected 344 minority rows.\n",
            "Looking for 5 nearest neighbors per minority point...\n",
            "Neigher search completed\n",
            "processing complete\n",
            "SMOTE Global) Time: 34.94s\n",
            "Running SMOTE + ENN ...\n",
            "Local SMOTE + ENN Time: 1371.39s\n",
            "=== Fraction: 0.3 ===\n",
            "Running Approximate SMOTE with LSH...\n",
            "Approximate SMOTE LSH Time: 22.07s\n",
            "Running SMOTE Global ...\n",
            "Original minority count: 344\n",
            "Majority count: 199020\n",
            "Target total minority count (approx): 199020\n",
            "Number of samples to generate: 198676\n",
            "Collecting minority features to the driver...\n",
            "Collected 344 minority rows.\n",
            "Looking for 5 nearest neighbors per minority point...\n",
            "Neigher search completed\n",
            "processing complete\n",
            "SMOTE Global) Time: 32.32s\n",
            "Running SMOTE + ENN ...\n",
            "Local SMOTE + ENN Time: 1362.27s\n",
            "=== Fraction: 0.5 ===\n",
            "Running Approximate SMOTE with LSH...\n",
            "Approximate SMOTE LSH Time: 23.31s\n",
            "Running SMOTE Global ...\n",
            "Original minority count: 344\n",
            "Majority count: 199020\n",
            "Target total minority count (approx): 199020\n",
            "Number of samples to generate: 198676\n",
            "Collecting minority features to the driver...\n",
            "Collected 344 minority rows.\n",
            "Looking for 5 nearest neighbors per minority point...\n",
            "Neigher search completed\n",
            "processing complete\n",
            "SMOTE Global) Time: 34.1s\n",
            "Running SMOTE + ENN ...\n",
            "Local SMOTE + ENN Time: 1359.65s\n",
            "Results saved to advanced_smote_results.csv\n",
            "\n",
            "=== Results Table ===\n",
            "              Method  Fraction     Time\n",
            "0   Approx_SMOTE_LSH       0.1    23.73\n",
            "1       SMOTE_Global       0.1    34.65\n",
            "2    Local_SMOTE_ENN       0.1  1368.58\n",
            "3   Approx_SMOTE_LSH       0.2    19.06\n",
            "4       SMOTE_Global       0.2    34.94\n",
            "5    Local_SMOTE_ENN       0.2  1371.39\n",
            "6   Approx_SMOTE_LSH       0.3    22.07\n",
            "7       SMOTE_Global       0.3    32.32\n",
            "8    Local_SMOTE_ENN       0.3  1362.27\n",
            "9   Approx_SMOTE_LSH       0.5    23.31\n",
            "10      SMOTE_Global       0.5    34.10\n",
            "11   Local_SMOTE_ENN       0.5  1359.65\n"
          ]
        },
        {
          "output_type": "display_data",
          "data": {
            "text/plain": [
              "<Figure size 800x500 with 1 Axes>"
            ],
            "image/png": "[encoded data removed]"
          },
          "metadata": {}
        }
      ],
      "source": [
        "# Run workflows\n",
        "# run_local_smote_workflow()\n",
        "train_distributed()\n",
        "run_advanced_smote_workflow()\n",
        "# run_workflow()\n"
      ]
    },
    {
      "cell_type": "code",
      "source": [],
      "metadata": {
        "id": "F4jWBT4nvqT4"
      },
      "execution_count": null,
      "outputs": []
    }
  ],
  "metadata": {
    "application/vnd.databricks.v1+notebook": {
      "computePreferences": null,
      "dashboards": [],
      "environmentMetadata": null,
      "inputWidgetPreferences": null,
      "language": "python",
      "notebookMetadata": {
        "pythonIndentUnit": 2
      },
      "notebookName": "Big_data (3)",
      "widgets": {}
    },
    "colab": {
      "provenance": []
    },
    "kernelspec": {
      "display_name": "Python 3",
      "name": "python3"
    },
    "language_info": {
      "name": "python"
    }
  },
  "nbformat": 4,
  "nbformat_minor": 0
}